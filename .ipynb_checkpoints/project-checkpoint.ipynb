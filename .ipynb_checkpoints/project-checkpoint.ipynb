{
 "cells": [
  {
   "cell_type": "code",
   "execution_count": 137,
   "metadata": {},
   "outputs": [],
   "source": [
    "#read text label description\n",
    "df_labels_text_info = pd.read_csv(activity_label_file, sep=\"\\n\", header=None)\n",
    "labels_text_info = list(df_labels_text_info[0].values)\n",
    "labels_text_info = [x.strip() for x in labels_text_info]\n",
    "\n",
    "\n",
    "#create dictionnary label/label description\n",
    "label_dic = {}\n",
    "for label in labels_text_info:\n",
    "    label = label.strip()\n",
    "    label = label.split(\" \")\n",
    "    label_dic[int(label[0])] = label[1]\n",
    "    \n",
    "#df[\"label_text\"] = [label_dic[x] for x in labels]"
   ]
  },
  {
   "cell_type": "code",
   "execution_count": 237,
   "metadata": {},
   "outputs": [
    {
     "ename": "ModuleNotFoundError",
     "evalue": "No module named 'dataset'",
     "output_type": "error",
     "traceback": [
      "\u001b[1;31m---------------------------------------------------------------------------\u001b[0m",
      "\u001b[1;31mModuleNotFoundError\u001b[0m                       Traceback (most recent call last)",
      "\u001b[1;32m<ipython-input-237-01efc7a79a04>\u001b[0m in \u001b[0;36m<module>\u001b[1;34m\u001b[0m\n\u001b[1;32m----> 1\u001b[1;33m \u001b[1;32mimport\u001b[0m \u001b[0mdataset\u001b[0m\u001b[1;33m\u001b[0m\u001b[1;33m\u001b[0m\u001b[0m\n\u001b[0m",
      "\u001b[1;31mModuleNotFoundError\u001b[0m: No module named 'dataset'"
     ]
    }
   ],
   "source": [
    "import dataset"
   ]
  },
  {
   "cell_type": "code",
   "execution_count": 177,
   "metadata": {},
   "outputs": [
    {
     "name": "stdout",
     "output_type": "stream",
     "text": [
      "HAPT Data Set/Test/X_test.txt HAPT Data Set/Test/y_test.txt HAPT Data Set/Test/subject_id_test.txt\n"
     ]
    }
   ],
   "source": [
    "df_train = read_df(train=True)\n",
    "df_test = read_df(train=False)"
   ]
  },
  {
   "cell_type": "code",
   "execution_count": 164,
   "metadata": {},
   "outputs": [
    {
     "data": {
      "text/html": [
       "<div>\n",
       "<style scoped>\n",
       "    .dataframe tbody tr th:only-of-type {\n",
       "        vertical-align: middle;\n",
       "    }\n",
       "\n",
       "    .dataframe tbody tr th {\n",
       "        vertical-align: top;\n",
       "    }\n",
       "\n",
       "    .dataframe thead th {\n",
       "        text-align: right;\n",
       "    }\n",
       "</style>\n",
       "<table border=\"1\" class=\"dataframe\">\n",
       "  <thead>\n",
       "    <tr style=\"text-align: right;\">\n",
       "      <th></th>\n",
       "      <th>tBodyAcc-Mean-1</th>\n",
       "      <th>tBodyAcc-Mean-2</th>\n",
       "      <th>tBodyAcc-Mean-3</th>\n",
       "      <th>tBodyAcc-STD-1</th>\n",
       "      <th>tBodyAcc-STD-2</th>\n",
       "      <th>tBodyAcc-STD-3</th>\n",
       "      <th>tBodyAcc-Mad-1</th>\n",
       "      <th>tBodyAcc-Mad-2</th>\n",
       "      <th>tBodyAcc-Mad-3</th>\n",
       "      <th>tBodyAcc-Max-1</th>\n",
       "      <th>...</th>\n",
       "      <th>tBodyAccJerk-AngleWRTGravity-1</th>\n",
       "      <th>tBodyGyro-AngleWRTGravity-1</th>\n",
       "      <th>tBodyGyroJerk-AngleWRTGravity-1</th>\n",
       "      <th>tXAxisAcc-AngleWRTGravity-1</th>\n",
       "      <th>tYAxisAcc-AngleWRTGravity-1</th>\n",
       "      <th>tZAxisAcc-AngleWRTGravity-1</th>\n",
       "      <th>label</th>\n",
       "      <th>users_id</th>\n",
       "      <th>label_tm1</th>\n",
       "      <th>label_tm2</th>\n",
       "    </tr>\n",
       "  </thead>\n",
       "  <tbody>\n",
       "    <tr>\n",
       "      <th>0</th>\n",
       "      <td>0.030914</td>\n",
       "      <td>-0.008927</td>\n",
       "      <td>0.040382</td>\n",
       "      <td>-0.938504</td>\n",
       "      <td>-0.944626</td>\n",
       "      <td>-0.759334</td>\n",
       "      <td>-0.952398</td>\n",
       "      <td>-0.950281</td>\n",
       "      <td>-0.802483</td>\n",
       "      <td>-0.757099</td>\n",
       "      <td>...</td>\n",
       "      <td>0.162920</td>\n",
       "      <td>-0.825886</td>\n",
       "      <td>0.271151</td>\n",
       "      <td>-0.720559</td>\n",
       "      <td>0.276779</td>\n",
       "      <td>-0.051074</td>\n",
       "      <td>5</td>\n",
       "      <td>2</td>\n",
       "      <td>5</td>\n",
       "      <td>5</td>\n",
       "    </tr>\n",
       "    <tr>\n",
       "      <th>1</th>\n",
       "      <td>0.042548</td>\n",
       "      <td>0.001079</td>\n",
       "      <td>-0.026236</td>\n",
       "      <td>-0.975516</td>\n",
       "      <td>-0.977502</td>\n",
       "      <td>-0.960146</td>\n",
       "      <td>-0.986694</td>\n",
       "      <td>-0.978983</td>\n",
       "      <td>-0.966820</td>\n",
       "      <td>-0.757099</td>\n",
       "      <td>...</td>\n",
       "      <td>0.017500</td>\n",
       "      <td>-0.434375</td>\n",
       "      <td>0.920593</td>\n",
       "      <td>-0.698684</td>\n",
       "      <td>0.281322</td>\n",
       "      <td>-0.076825</td>\n",
       "      <td>5</td>\n",
       "      <td>2</td>\n",
       "      <td>5</td>\n",
       "      <td>5</td>\n",
       "    </tr>\n",
       "    <tr>\n",
       "      <th>2</th>\n",
       "      <td>0.038297</td>\n",
       "      <td>-0.011660</td>\n",
       "      <td>-0.025643</td>\n",
       "      <td>-0.993922</td>\n",
       "      <td>-0.979215</td>\n",
       "      <td>-0.973030</td>\n",
       "      <td>-0.994298</td>\n",
       "      <td>-0.980535</td>\n",
       "      <td>-0.977508</td>\n",
       "      <td>-0.799005</td>\n",
       "      <td>...</td>\n",
       "      <td>0.202302</td>\n",
       "      <td>0.064103</td>\n",
       "      <td>0.145068</td>\n",
       "      <td>-0.703355</td>\n",
       "      <td>0.280062</td>\n",
       "      <td>-0.072302</td>\n",
       "      <td>5</td>\n",
       "      <td>2</td>\n",
       "      <td>5</td>\n",
       "      <td>5</td>\n",
       "    </tr>\n",
       "    <tr>\n",
       "      <th>3</th>\n",
       "      <td>0.036205</td>\n",
       "      <td>-0.018148</td>\n",
       "      <td>-0.025240</td>\n",
       "      <td>-0.994845</td>\n",
       "      <td>-0.981534</td>\n",
       "      <td>-0.976175</td>\n",
       "      <td>-0.995169</td>\n",
       "      <td>-0.983020</td>\n",
       "      <td>-0.980785</td>\n",
       "      <td>-0.798401</td>\n",
       "      <td>...</td>\n",
       "      <td>0.154438</td>\n",
       "      <td>0.340134</td>\n",
       "      <td>0.296407</td>\n",
       "      <td>-0.699545</td>\n",
       "      <td>0.284093</td>\n",
       "      <td>-0.070079</td>\n",
       "      <td>5</td>\n",
       "      <td>2</td>\n",
       "      <td>5</td>\n",
       "      <td>5</td>\n",
       "    </tr>\n",
       "    <tr>\n",
       "      <th>4</th>\n",
       "      <td>0.038034</td>\n",
       "      <td>-0.013437</td>\n",
       "      <td>-0.032899</td>\n",
       "      <td>-0.993955</td>\n",
       "      <td>-0.977493</td>\n",
       "      <td>-0.984290</td>\n",
       "      <td>-0.994006</td>\n",
       "      <td>-0.977354</td>\n",
       "      <td>-0.985899</td>\n",
       "      <td>-0.798401</td>\n",
       "      <td>...</td>\n",
       "      <td>-0.040046</td>\n",
       "      <td>0.736715</td>\n",
       "      <td>-0.118545</td>\n",
       "      <td>-0.692849</td>\n",
       "      <td>0.290701</td>\n",
       "      <td>-0.066849</td>\n",
       "      <td>5</td>\n",
       "      <td>2</td>\n",
       "      <td>5</td>\n",
       "      <td>5</td>\n",
       "    </tr>\n",
       "  </tbody>\n",
       "</table>\n",
       "<p>5 rows × 565 columns</p>\n",
       "</div>"
      ],
      "text/plain": [
       "   tBodyAcc-Mean-1  tBodyAcc-Mean-2  tBodyAcc-Mean-3  tBodyAcc-STD-1  \\\n",
       "0         0.030914        -0.008927         0.040382       -0.938504   \n",
       "1         0.042548         0.001079        -0.026236       -0.975516   \n",
       "2         0.038297        -0.011660        -0.025643       -0.993922   \n",
       "3         0.036205        -0.018148        -0.025240       -0.994845   \n",
       "4         0.038034        -0.013437        -0.032899       -0.993955   \n",
       "\n",
       "   tBodyAcc-STD-2  tBodyAcc-STD-3  tBodyAcc-Mad-1  tBodyAcc-Mad-2  \\\n",
       "0       -0.944626       -0.759334       -0.952398       -0.950281   \n",
       "1       -0.977502       -0.960146       -0.986694       -0.978983   \n",
       "2       -0.979215       -0.973030       -0.994298       -0.980535   \n",
       "3       -0.981534       -0.976175       -0.995169       -0.983020   \n",
       "4       -0.977493       -0.984290       -0.994006       -0.977354   \n",
       "\n",
       "   tBodyAcc-Mad-3  tBodyAcc-Max-1  ...  tBodyAccJerk-AngleWRTGravity-1  \\\n",
       "0       -0.802483       -0.757099  ...                        0.162920   \n",
       "1       -0.966820       -0.757099  ...                        0.017500   \n",
       "2       -0.977508       -0.799005  ...                        0.202302   \n",
       "3       -0.980785       -0.798401  ...                        0.154438   \n",
       "4       -0.985899       -0.798401  ...                       -0.040046   \n",
       "\n",
       "   tBodyGyro-AngleWRTGravity-1  tBodyGyroJerk-AngleWRTGravity-1  \\\n",
       "0                    -0.825886                         0.271151   \n",
       "1                    -0.434375                         0.920593   \n",
       "2                     0.064103                         0.145068   \n",
       "3                     0.340134                         0.296407   \n",
       "4                     0.736715                        -0.118545   \n",
       "\n",
       "   tXAxisAcc-AngleWRTGravity-1  tYAxisAcc-AngleWRTGravity-1  \\\n",
       "0                    -0.720559                     0.276779   \n",
       "1                    -0.698684                     0.281322   \n",
       "2                    -0.703355                     0.280062   \n",
       "3                    -0.699545                     0.284093   \n",
       "4                    -0.692849                     0.290701   \n",
       "\n",
       "   tZAxisAcc-AngleWRTGravity-1  label  users_id  label_tm1  label_tm2  \n",
       "0                    -0.051074      5         2          5          5  \n",
       "1                    -0.076825      5         2          5          5  \n",
       "2                    -0.072302      5         2          5          5  \n",
       "3                    -0.070079      5         2          5          5  \n",
       "4                    -0.066849      5         2          5          5  \n",
       "\n",
       "[5 rows x 565 columns]"
      ]
     },
     "execution_count": 164,
     "metadata": {},
     "output_type": "execute_result"
    }
   ],
   "source": [
    "df.head()"
   ]
  },
  {
   "cell_type": "code",
   "execution_count": 271,
   "metadata": {},
   "outputs": [
    {
     "data": {
      "text/html": [
       "<div>\n",
       "<style scoped>\n",
       "    .dataframe tbody tr th:only-of-type {\n",
       "        vertical-align: middle;\n",
       "    }\n",
       "\n",
       "    .dataframe tbody tr th {\n",
       "        vertical-align: top;\n",
       "    }\n",
       "\n",
       "    .dataframe thead th {\n",
       "        text-align: right;\n",
       "    }\n",
       "</style>\n",
       "<table border=\"1\" class=\"dataframe\">\n",
       "  <thead>\n",
       "    <tr style=\"text-align: right;\">\n",
       "      <th></th>\n",
       "      <th>label_text</th>\n",
       "      <th>label</th>\n",
       "      <th>tBodyAcc-Max-1</th>\n",
       "      <th>tBodyAcc-Max-2</th>\n",
       "      <th>tBodyAcc-Max-3</th>\n",
       "      <th>tGravityAcc-Max-1</th>\n",
       "      <th>tGravityAcc-Max-2</th>\n",
       "      <th>tGravityAcc-Max-3</th>\n",
       "      <th>tBodyAccJerk-Max-1</th>\n",
       "      <th>tBodyAccJerk-Max-2</th>\n",
       "      <th>...</th>\n",
       "      <th>fBodyGyro-MaxInds-2</th>\n",
       "      <th>fBodyGyro-MaxInds-3</th>\n",
       "      <th>fBodyAccMag-Max-1</th>\n",
       "      <th>fBodyAccMag-MaxInds-1</th>\n",
       "      <th>fBodyAccJerkMag-Max-1</th>\n",
       "      <th>fBodyAccJerkMag-MaxInds-1</th>\n",
       "      <th>fBodyGyroMag-Max-1</th>\n",
       "      <th>fBodyGyroMag-MaxInds-1</th>\n",
       "      <th>fBodyGyroJerkMag-Max-1</th>\n",
       "      <th>fBodyGyroJerkMag-MaxInds-1</th>\n",
       "    </tr>\n",
       "  </thead>\n",
       "  <tbody>\n",
       "    <tr>\n",
       "      <th>0</th>\n",
       "      <td>STANDING</td>\n",
       "      <td>5</td>\n",
       "      <td>-0.794796</td>\n",
       "      <td>-0.744893</td>\n",
       "      <td>-0.648447</td>\n",
       "      <td>0.892055</td>\n",
       "      <td>-0.161350</td>\n",
       "      <td>0.124660</td>\n",
       "      <td>-0.985180</td>\n",
       "      <td>-0.991994</td>\n",
       "      <td>...</td>\n",
       "      <td>-1.000000</td>\n",
       "      <td>-1.000000</td>\n",
       "      <td>-0.981575</td>\n",
       "      <td>-0.842105</td>\n",
       "      <td>-0.993778</td>\n",
       "      <td>-0.936508</td>\n",
       "      <td>-0.956013</td>\n",
       "      <td>-1.000000</td>\n",
       "      <td>-0.992521</td>\n",
       "      <td>-1.000000</td>\n",
       "    </tr>\n",
       "    <tr>\n",
       "      <th>1</th>\n",
       "      <td>STANDING</td>\n",
       "      <td>5</td>\n",
       "      <td>-0.802537</td>\n",
       "      <td>-0.736338</td>\n",
       "      <td>-0.712415</td>\n",
       "      <td>0.892060</td>\n",
       "      <td>-0.161428</td>\n",
       "      <td>0.122586</td>\n",
       "      <td>-0.994545</td>\n",
       "      <td>-0.979068</td>\n",
       "      <td>...</td>\n",
       "      <td>-1.000000</td>\n",
       "      <td>-1.000000</td>\n",
       "      <td>-0.984387</td>\n",
       "      <td>-1.000000</td>\n",
       "      <td>-0.994902</td>\n",
       "      <td>-0.841270</td>\n",
       "      <td>-0.987406</td>\n",
       "      <td>-0.948718</td>\n",
       "      <td>-0.996939</td>\n",
       "      <td>-1.000000</td>\n",
       "    </tr>\n",
       "    <tr>\n",
       "      <th>2</th>\n",
       "      <td>STANDING</td>\n",
       "      <td>5</td>\n",
       "      <td>-0.798477</td>\n",
       "      <td>-0.736338</td>\n",
       "      <td>-0.712415</td>\n",
       "      <td>0.892401</td>\n",
       "      <td>-0.163796</td>\n",
       "      <td>0.094566</td>\n",
       "      <td>-0.987077</td>\n",
       "      <td>-0.979068</td>\n",
       "      <td>...</td>\n",
       "      <td>-0.870968</td>\n",
       "      <td>-1.000000</td>\n",
       "      <td>-0.995071</td>\n",
       "      <td>-0.894737</td>\n",
       "      <td>-0.993592</td>\n",
       "      <td>-0.904762</td>\n",
       "      <td>-0.991701</td>\n",
       "      <td>-0.794872</td>\n",
       "      <td>-0.996133</td>\n",
       "      <td>-0.555556</td>\n",
       "    </tr>\n",
       "    <tr>\n",
       "      <th>3</th>\n",
       "      <td>STANDING</td>\n",
       "      <td>5</td>\n",
       "      <td>-0.798477</td>\n",
       "      <td>-0.752778</td>\n",
       "      <td>-0.722186</td>\n",
       "      <td>0.893817</td>\n",
       "      <td>-0.163796</td>\n",
       "      <td>0.093425</td>\n",
       "      <td>-0.987077</td>\n",
       "      <td>-0.991786</td>\n",
       "      <td>...</td>\n",
       "      <td>-1.000000</td>\n",
       "      <td>-0.806452</td>\n",
       "      <td>-0.993031</td>\n",
       "      <td>-1.000000</td>\n",
       "      <td>-0.994868</td>\n",
       "      <td>1.000000</td>\n",
       "      <td>-0.987801</td>\n",
       "      <td>-1.000000</td>\n",
       "      <td>-0.995346</td>\n",
       "      <td>-0.936508</td>\n",
       "    </tr>\n",
       "    <tr>\n",
       "      <th>4</th>\n",
       "      <td>STANDING</td>\n",
       "      <td>5</td>\n",
       "      <td>-0.801982</td>\n",
       "      <td>-0.746505</td>\n",
       "      <td>-0.717858</td>\n",
       "      <td>0.893817</td>\n",
       "      <td>-0.166871</td>\n",
       "      <td>0.091682</td>\n",
       "      <td>-0.996993</td>\n",
       "      <td>-0.991818</td>\n",
       "      <td>...</td>\n",
       "      <td>-0.806452</td>\n",
       "      <td>-1.000000</td>\n",
       "      <td>-0.993230</td>\n",
       "      <td>-1.000000</td>\n",
       "      <td>-0.995898</td>\n",
       "      <td>-1.000000</td>\n",
       "      <td>-0.992145</td>\n",
       "      <td>-0.897436</td>\n",
       "      <td>-0.995683</td>\n",
       "      <td>-0.936508</td>\n",
       "    </tr>\n",
       "  </tbody>\n",
       "</table>\n",
       "<p>5 rows × 48 columns</p>\n",
       "</div>"
      ],
      "text/plain": [
       "  label_text label  tBodyAcc-Max-1  tBodyAcc-Max-2  tBodyAcc-Max-3  \\\n",
       "0   STANDING     5       -0.794796       -0.744893       -0.648447   \n",
       "1   STANDING     5       -0.802537       -0.736338       -0.712415   \n",
       "2   STANDING     5       -0.798477       -0.736338       -0.712415   \n",
       "3   STANDING     5       -0.798477       -0.752778       -0.722186   \n",
       "4   STANDING     5       -0.801982       -0.746505       -0.717858   \n",
       "\n",
       "   tGravityAcc-Max-1  tGravityAcc-Max-2  tGravityAcc-Max-3  \\\n",
       "0           0.892055          -0.161350           0.124660   \n",
       "1           0.892060          -0.161428           0.122586   \n",
       "2           0.892401          -0.163796           0.094566   \n",
       "3           0.893817          -0.163796           0.093425   \n",
       "4           0.893817          -0.166871           0.091682   \n",
       "\n",
       "   tBodyAccJerk-Max-1  tBodyAccJerk-Max-2  ...  fBodyGyro-MaxInds-2  \\\n",
       "0           -0.985180           -0.991994  ...            -1.000000   \n",
       "1           -0.994545           -0.979068  ...            -1.000000   \n",
       "2           -0.987077           -0.979068  ...            -0.870968   \n",
       "3           -0.987077           -0.991786  ...            -1.000000   \n",
       "4           -0.996993           -0.991818  ...            -0.806452   \n",
       "\n",
       "   fBodyGyro-MaxInds-3  fBodyAccMag-Max-1  fBodyAccMag-MaxInds-1  \\\n",
       "0            -1.000000          -0.981575              -0.842105   \n",
       "1            -1.000000          -0.984387              -1.000000   \n",
       "2            -1.000000          -0.995071              -0.894737   \n",
       "3            -0.806452          -0.993031              -1.000000   \n",
       "4            -1.000000          -0.993230              -1.000000   \n",
       "\n",
       "   fBodyAccJerkMag-Max-1  fBodyAccJerkMag-MaxInds-1  fBodyGyroMag-Max-1  \\\n",
       "0              -0.993778                  -0.936508           -0.956013   \n",
       "1              -0.994902                  -0.841270           -0.987406   \n",
       "2              -0.993592                  -0.904762           -0.991701   \n",
       "3              -0.994868                   1.000000           -0.987801   \n",
       "4              -0.995898                  -1.000000           -0.992145   \n",
       "\n",
       "   fBodyGyroMag-MaxInds-1  fBodyGyroJerkMag-Max-1  fBodyGyroJerkMag-MaxInds-1  \n",
       "0               -1.000000               -0.992521                   -1.000000  \n",
       "1               -0.948718               -0.996939                   -1.000000  \n",
       "2               -0.794872               -0.996133                   -0.555556  \n",
       "3               -1.000000               -0.995346                   -0.936508  \n",
       "4               -0.897436               -0.995683                   -0.936508  \n",
       "\n",
       "[5 rows x 48 columns]"
      ]
     },
     "execution_count": 271,
     "metadata": {},
     "output_type": "execute_result"
    }
   ],
   "source": [
    "df_graph = pd.DataFrame()\n",
    "df_graph[\"label_text\"] = [label_dic[x] for x in labels]\n",
    "df_graph[\"label\"] = labels\n",
    "col = \"max\" #mean max min\n",
    "for c in df.columns:\n",
    "    if col in c.lower():\n",
    "        df_graph[c] = df[c]\n",
    "        \n",
    "len(df_graph.columns)\n",
    "df_graph.head()"
   ]
  },
  {
   "cell_type": "code",
   "execution_count": 223,
   "metadata": {},
   "outputs": [
    {
     "data": {
      "text/plain": [
       "3162"
      ]
     },
     "execution_count": 223,
     "metadata": {},
     "output_type": "execute_result"
    },
    {
     "data": {
      "image/png": "[encoded data removed]",
      "text/plain": [
       "<Figure size 432x288 with 1 Axes>"
      ]
     },
     "metadata": {
      "needs_background": "light"
     },
     "output_type": "display_data"
    }
   ],
   "source": [
    "#df_graph.plot.line(x='label', y='tBodyAcc-Max-1', figsize=(20,20))\n",
    "df[\"label\"].hist(bins=12)"
   ]
  },
  {
   "cell_type": "code",
   "execution_count": 230,
   "metadata": {},
   "outputs": [
    {
     "data": {
      "text/plain": [
       "Index(['tBodyAcc-Mean-1', 'tBodyAcc-Mean-2', 'tBodyAcc-Mean-3',\n",
       "       'tBodyAcc-STD-1', 'tBodyAcc-STD-2', 'tBodyAcc-STD-3', 'tBodyAcc-Mad-1',\n",
       "       'tBodyAcc-Mad-2', 'tBodyAcc-Mad-3', 'tBodyAcc-Max-1',\n",
       "       ...\n",
       "       'tBodyAccJerk-AngleWRTGravity-1', 'tBodyGyro-AngleWRTGravity-1',\n",
       "       'tBodyGyroJerk-AngleWRTGravity-1', 'tXAxisAcc-AngleWRTGravity-1',\n",
       "       'tYAxisAcc-AngleWRTGravity-1', 'tZAxisAcc-AngleWRTGravity-1', 'label',\n",
       "       'users_id', 'label_tm1', 'label_tm2'],\n",
       "      dtype='object', length=565)"
      ]
     },
     "execution_count": 230,
     "metadata": {},
     "output_type": "execute_result"
    }
   ],
   "source": [
    "df.columns"
   ]
  },
  {
   "cell_type": "code",
   "execution_count": 232,
   "metadata": {},
   "outputs": [
    {
     "data": {
      "text/plain": [
       "<seaborn.axisgrid.FacetGrid at 0x2cc04a3f7b8>"
      ]
     },
     "execution_count": 232,
     "metadata": {},
     "output_type": "execute_result"
    },
    {
     "data": {
      "image/png": "[encoded data removed]",
      "text/plain": [
       "<Figure size 576x576 with 1 Axes>"
      ]
     },
     "metadata": {
      "needs_background": "light"
     },
     "output_type": "display_data"
    }
   ],
   "source": [
    "import matplotlib.pyplot as plt\n",
    "import seaborn as sns\n",
    "\n",
    "#sns.distplot( a=df[\"label\"], )\n",
    "#df[\"label\"].hist(bins=12)\n",
    "sns.lmplot('label', 'tBodyAcc-Mean-1', data=df, fit_reg=False, size=8)"
   ]
  },
  {
   "cell_type": "code",
   "execution_count": 239,
   "metadata": {},
   "outputs": [
    {
     "data": {
      "text/html": [
       "<div>\n",
       "<style scoped>\n",
       "    .dataframe tbody tr th:only-of-type {\n",
       "        vertical-align: middle;\n",
       "    }\n",
       "\n",
       "    .dataframe tbody tr th {\n",
       "        vertical-align: top;\n",
       "    }\n",
       "\n",
       "    .dataframe thead th {\n",
       "        text-align: right;\n",
       "    }\n",
       "</style>\n",
       "<table border=\"1\" class=\"dataframe\">\n",
       "  <thead>\n",
       "    <tr style=\"text-align: right;\">\n",
       "      <th></th>\n",
       "      <th>label</th>\n",
       "      <th>tBodyAcc-Mean-1</th>\n",
       "      <th>tBodyAcc-Mean-2</th>\n",
       "      <th>tBodyAcc-Mean-3</th>\n",
       "      <th>tBodyAcc-STD-1</th>\n",
       "      <th>tBodyAcc-STD-2</th>\n",
       "      <th>tBodyAcc-STD-3</th>\n",
       "      <th>tBodyAcc-Mad-1</th>\n",
       "      <th>tBodyAcc-Mad-2</th>\n",
       "      <th>tBodyAcc-Mad-3</th>\n",
       "      <th>...</th>\n",
       "      <th>fBodyGyroJerkMag-MeanFreq-1</th>\n",
       "      <th>fBodyGyroJerkMag-Skewness-1</th>\n",
       "      <th>fBodyGyroJerkMag-Kurtosis-1</th>\n",
       "      <th>tBodyAcc-AngleWRTGravity-1</th>\n",
       "      <th>tBodyAccJerk-AngleWRTGravity-1</th>\n",
       "      <th>tBodyGyro-AngleWRTGravity-1</th>\n",
       "      <th>tBodyGyroJerk-AngleWRTGravity-1</th>\n",
       "      <th>tXAxisAcc-AngleWRTGravity-1</th>\n",
       "      <th>tYAxisAcc-AngleWRTGravity-1</th>\n",
       "      <th>tZAxisAcc-AngleWRTGravity-1</th>\n",
       "    </tr>\n",
       "  </thead>\n",
       "  <tbody>\n",
       "    <tr>\n",
       "      <th>0</th>\n",
       "      <td>5.0</td>\n",
       "      <td>0.043580</td>\n",
       "      <td>-0.005970</td>\n",
       "      <td>-0.035054</td>\n",
       "      <td>-0.995381</td>\n",
       "      <td>-0.988366</td>\n",
       "      <td>-0.937382</td>\n",
       "      <td>-0.995007</td>\n",
       "      <td>-0.988816</td>\n",
       "      <td>-0.953325</td>\n",
       "      <td>...</td>\n",
       "      <td>-0.012236</td>\n",
       "      <td>-0.314848</td>\n",
       "      <td>-0.713308</td>\n",
       "      <td>-0.112754</td>\n",
       "      <td>0.030400</td>\n",
       "      <td>-0.464761</td>\n",
       "      <td>-0.018446</td>\n",
       "      <td>-0.841559</td>\n",
       "      <td>0.179913</td>\n",
       "      <td>-0.051718</td>\n",
       "    </tr>\n",
       "    <tr>\n",
       "      <th>1</th>\n",
       "      <td>5.0</td>\n",
       "      <td>0.039480</td>\n",
       "      <td>-0.002131</td>\n",
       "      <td>-0.029067</td>\n",
       "      <td>-0.998348</td>\n",
       "      <td>-0.982945</td>\n",
       "      <td>-0.971273</td>\n",
       "      <td>-0.998702</td>\n",
       "      <td>-0.983315</td>\n",
       "      <td>-0.974000</td>\n",
       "      <td>...</td>\n",
       "      <td>0.202804</td>\n",
       "      <td>-0.603199</td>\n",
       "      <td>-0.860677</td>\n",
       "      <td>0.053477</td>\n",
       "      <td>-0.007435</td>\n",
       "      <td>-0.732626</td>\n",
       "      <td>0.703511</td>\n",
       "      <td>-0.845092</td>\n",
       "      <td>0.180261</td>\n",
       "      <td>-0.047436</td>\n",
       "    </tr>\n",
       "    <tr>\n",
       "      <th>2</th>\n",
       "      <td>5.0</td>\n",
       "      <td>0.039978</td>\n",
       "      <td>-0.005153</td>\n",
       "      <td>-0.022651</td>\n",
       "      <td>-0.995482</td>\n",
       "      <td>-0.977314</td>\n",
       "      <td>-0.984760</td>\n",
       "      <td>-0.996415</td>\n",
       "      <td>-0.975835</td>\n",
       "      <td>-0.985973</td>\n",
       "      <td>...</td>\n",
       "      <td>0.440079</td>\n",
       "      <td>-0.404427</td>\n",
       "      <td>-0.761847</td>\n",
       "      <td>-0.118559</td>\n",
       "      <td>0.177899</td>\n",
       "      <td>0.100699</td>\n",
       "      <td>0.808529</td>\n",
       "      <td>-0.849230</td>\n",
       "      <td>0.180610</td>\n",
       "      <td>-0.042271</td>\n",
       "    </tr>\n",
       "    <tr>\n",
       "      <th>3</th>\n",
       "      <td>5.0</td>\n",
       "      <td>0.039785</td>\n",
       "      <td>-0.011809</td>\n",
       "      <td>-0.028916</td>\n",
       "      <td>-0.996194</td>\n",
       "      <td>-0.988569</td>\n",
       "      <td>-0.993256</td>\n",
       "      <td>-0.996994</td>\n",
       "      <td>-0.988526</td>\n",
       "      <td>-0.993135</td>\n",
       "      <td>...</td>\n",
       "      <td>0.430891</td>\n",
       "      <td>-0.138373</td>\n",
       "      <td>-0.491604</td>\n",
       "      <td>-0.036788</td>\n",
       "      <td>-0.012892</td>\n",
       "      <td>0.640011</td>\n",
       "      <td>-0.485366</td>\n",
       "      <td>-0.848947</td>\n",
       "      <td>0.181907</td>\n",
       "      <td>-0.040826</td>\n",
       "    </tr>\n",
       "    <tr>\n",
       "      <th>4</th>\n",
       "      <td>5.0</td>\n",
       "      <td>0.038758</td>\n",
       "      <td>-0.002289</td>\n",
       "      <td>-0.023863</td>\n",
       "      <td>-0.998241</td>\n",
       "      <td>-0.986774</td>\n",
       "      <td>-0.993115</td>\n",
       "      <td>-0.998216</td>\n",
       "      <td>-0.986479</td>\n",
       "      <td>-0.993825</td>\n",
       "      <td>...</td>\n",
       "      <td>0.137735</td>\n",
       "      <td>-0.366214</td>\n",
       "      <td>-0.702490</td>\n",
       "      <td>0.123320</td>\n",
       "      <td>0.122542</td>\n",
       "      <td>0.693578</td>\n",
       "      <td>-0.615971</td>\n",
       "      <td>-0.848164</td>\n",
       "      <td>0.185124</td>\n",
       "      <td>-0.037080</td>\n",
       "    </tr>\n",
       "  </tbody>\n",
       "</table>\n",
       "<p>5 rows × 529 columns</p>\n",
       "</div>"
      ],
      "text/plain": [
       "   label  tBodyAcc-Mean-1  tBodyAcc-Mean-2  tBodyAcc-Mean-3  tBodyAcc-STD-1  \\\n",
       "0    5.0         0.043580        -0.005970        -0.035054       -0.995381   \n",
       "1    5.0         0.039480        -0.002131        -0.029067       -0.998348   \n",
       "2    5.0         0.039978        -0.005153        -0.022651       -0.995482   \n",
       "3    5.0         0.039785        -0.011809        -0.028916       -0.996194   \n",
       "4    5.0         0.038758        -0.002289        -0.023863       -0.998241   \n",
       "\n",
       "   tBodyAcc-STD-2  tBodyAcc-STD-3  tBodyAcc-Mad-1  tBodyAcc-Mad-2  \\\n",
       "0       -0.988366       -0.937382       -0.995007       -0.988816   \n",
       "1       -0.982945       -0.971273       -0.998702       -0.983315   \n",
       "2       -0.977314       -0.984760       -0.996415       -0.975835   \n",
       "3       -0.988569       -0.993256       -0.996994       -0.988526   \n",
       "4       -0.986774       -0.993115       -0.998216       -0.986479   \n",
       "\n",
       "   tBodyAcc-Mad-3  ...  fBodyGyroJerkMag-MeanFreq-1  \\\n",
       "0       -0.953325  ...                    -0.012236   \n",
       "1       -0.974000  ...                     0.202804   \n",
       "2       -0.985973  ...                     0.440079   \n",
       "3       -0.993135  ...                     0.430891   \n",
       "4       -0.993825  ...                     0.137735   \n",
       "\n",
       "   fBodyGyroJerkMag-Skewness-1  fBodyGyroJerkMag-Kurtosis-1  \\\n",
       "0                    -0.314848                    -0.713308   \n",
       "1                    -0.603199                    -0.860677   \n",
       "2                    -0.404427                    -0.761847   \n",
       "3                    -0.138373                    -0.491604   \n",
       "4                    -0.366214                    -0.702490   \n",
       "\n",
       "   tBodyAcc-AngleWRTGravity-1  tBodyAccJerk-AngleWRTGravity-1  \\\n",
       "0                   -0.112754                        0.030400   \n",
       "1                    0.053477                       -0.007435   \n",
       "2                   -0.118559                        0.177899   \n",
       "3                   -0.036788                       -0.012892   \n",
       "4                    0.123320                        0.122542   \n",
       "\n",
       "   tBodyGyro-AngleWRTGravity-1  tBodyGyroJerk-AngleWRTGravity-1  \\\n",
       "0                    -0.464761                        -0.018446   \n",
       "1                    -0.732626                         0.703511   \n",
       "2                     0.100699                         0.808529   \n",
       "3                     0.640011                        -0.485366   \n",
       "4                     0.693578                        -0.615971   \n",
       "\n",
       "   tXAxisAcc-AngleWRTGravity-1  tYAxisAcc-AngleWRTGravity-1  \\\n",
       "0                    -0.841559                     0.179913   \n",
       "1                    -0.845092                     0.180261   \n",
       "2                    -0.849230                     0.180610   \n",
       "3                    -0.848947                     0.181907   \n",
       "4                    -0.848164                     0.185124   \n",
       "\n",
       "   tZAxisAcc-AngleWRTGravity-1  \n",
       "0                    -0.051718  \n",
       "1                    -0.047436  \n",
       "2                    -0.042271  \n",
       "3                    -0.040826  \n",
       "4                    -0.037080  \n",
       "\n",
       "[5 rows x 529 columns]"
      ]
     },
     "execution_count": 239,
     "metadata": {},
     "output_type": "execute_result"
    }
   ],
   "source": [
    "df_graph = df_graph.drop(columns=[\"label_text\"])\n",
    "df_graph.head()"
   ]
  },
  {
   "cell_type": "markdown",
   "metadata": {},
   "source": [
    "# XGB"
   ]
  },
  {
   "cell_type": "code",
   "execution_count": 167,
   "metadata": {},
   "outputs": [],
   "source": [
    "from sklearn.model_selection import train_test_split\n",
    "from sklearn import preprocessing\n",
    "import xgboost as xgb\n",
    "from sklearn.metrics import mean_squared_error\n",
    "from xgboost import XGBClassifier\n",
    "from sklearn.metrics import accuracy_score\n",
    "import numpy as np\n",
    "train, test = train_test_split(df_train, test_size=0.3)\n",
    "valid_pred = test[\"label\"].values\n",
    "test = test.drop(columns=[\"label\"])"
   ]
  },
  {
   "cell_type": "code",
   "execution_count": 193,
   "metadata": {},
   "outputs": [],
   "source": [
    "import pickle\n",
    "pickle.dump(model, open(\"pima.pickle.dat\", \"wb\"))"
   ]
  },
  {
   "cell_type": "code",
   "execution_count": 194,
   "metadata": {},
   "outputs": [],
   "source": [
    "loaded_model = pickle.load(open(\"pima.pickle.dat\", \"rb\"))"
   ]
  },
  {
   "cell_type": "code",
   "execution_count": 183,
   "metadata": {},
   "outputs": [
    {
     "data": {
      "text/plain": [
       "XGBClassifier(alpha=10, base_score=0.5, booster='gbtree', colsample_bylevel=1,\n",
       "              colsample_bynode=1, colsample_bytree=0.3, eta=0.09, gamma=0,\n",
       "              learning_rate=0.1, max_delta_step=0, max_depth=9,\n",
       "              min_child_weight=1, missing=None, n_estimators=100, n_jobs=1,\n",
       "              nthread=None, objective='multi:softprob', random_state=0,\n",
       "              reg_alpha=0, reg_lambda=1, scale_pos_weight=1, seed=None,\n",
       "              silent=None, subsample=0.7, verbosity=1)"
      ]
     },
     "execution_count": 183,
     "metadata": {},
     "output_type": "execute_result"
    }
   ],
   "source": [
    "xg_class = XGBClassifier(objective ='reg:linear',\n",
    "                         colsample_bytree = 0.3, \n",
    "                         learning_rate = 0.1, \n",
    "                         max_depth = 9,\n",
    "                         alpha = 10,\n",
    "                         n_estimators = 100,\n",
    "                         subsample=0.7,\n",
    "                         eta = 0.09)\n",
    "xg_class.fit(train.drop(columns=[\"label\"]),train[\"label\"].values)"
   ]
  },
  {
   "cell_type": "code",
   "execution_count": 199,
   "metadata": {},
   "outputs": [],
   "source": [
    "preds = xg_class.predict(test)"
   ]
  },
  {
   "cell_type": "code",
   "execution_count": 200,
   "metadata": {},
   "outputs": [
    {
     "name": "stdout",
     "output_type": "stream",
     "text": [
      "Accuracy: 98.33%\n"
     ]
    }
   ],
   "source": [
    "from sklearn.metrics import accuracy_score\n",
    "accuracy = accuracy_score(valid_pred, preds)\n",
    "print(\"Accuracy: %.2f%%\" % (accuracy * 100.0))"
   ]
  },
  {
   "cell_type": "code",
   "execution_count": 186,
   "metadata": {},
   "outputs": [
    {
     "ename": "KeyError",
     "evalue": "'label'",
     "output_type": "error",
     "traceback": [
      "\u001b[1;31m---------------------------------------------------------------------------\u001b[0m",
      "\u001b[1;31mKeyError\u001b[0m                                  Traceback (most recent call last)",
      "\u001b[1;32m~\\Anaconda3\\lib\\site-packages\\pandas\\core\\indexes\\base.py\u001b[0m in \u001b[0;36mget_loc\u001b[1;34m(self, key, method, tolerance)\u001b[0m\n\u001b[0;32m   2656\u001b[0m             \u001b[1;32mtry\u001b[0m\u001b[1;33m:\u001b[0m\u001b[1;33m\u001b[0m\u001b[1;33m\u001b[0m\u001b[0m\n\u001b[1;32m-> 2657\u001b[1;33m                 \u001b[1;32mreturn\u001b[0m \u001b[0mself\u001b[0m\u001b[1;33m.\u001b[0m\u001b[0m_engine\u001b[0m\u001b[1;33m.\u001b[0m\u001b[0mget_loc\u001b[0m\u001b[1;33m(\u001b[0m\u001b[0mkey\u001b[0m\u001b[1;33m)\u001b[0m\u001b[1;33m\u001b[0m\u001b[1;33m\u001b[0m\u001b[0m\n\u001b[0m\u001b[0;32m   2658\u001b[0m             \u001b[1;32mexcept\u001b[0m \u001b[0mKeyError\u001b[0m\u001b[1;33m:\u001b[0m\u001b[1;33m\u001b[0m\u001b[1;33m\u001b[0m\u001b[0m\n",
      "\u001b[1;32mpandas/_libs/index.pyx\u001b[0m in \u001b[0;36mpandas._libs.index.IndexEngine.get_loc\u001b[1;34m()\u001b[0m\n",
      "\u001b[1;32mpandas/_libs/index.pyx\u001b[0m in \u001b[0;36mpandas._libs.index.IndexEngine.get_loc\u001b[1;34m()\u001b[0m\n",
      "\u001b[1;32mpandas/_libs/hashtable_class_helper.pxi\u001b[0m in \u001b[0;36mpandas._libs.hashtable.PyObjectHashTable.get_item\u001b[1;34m()\u001b[0m\n",
      "\u001b[1;32mpandas/_libs/hashtable_class_helper.pxi\u001b[0m in \u001b[0;36mpandas._libs.hashtable.PyObjectHashTable.get_item\u001b[1;34m()\u001b[0m\n",
      "\u001b[1;31mKeyError\u001b[0m: 'label'",
      "\nDuring handling of the above exception, another exception occurred:\n",
      "\u001b[1;31mKeyError\u001b[0m                                  Traceback (most recent call last)",
      "\u001b[1;32m<ipython-input-186-77e82e509bc4>\u001b[0m in \u001b[0;36m<module>\u001b[1;34m\u001b[0m\n\u001b[1;32m----> 1\u001b[1;33m \u001b[0mdf_test_label\u001b[0m \u001b[1;33m=\u001b[0m \u001b[0mdf_test\u001b[0m\u001b[1;33m[\u001b[0m\u001b[1;34m\"label\"\u001b[0m\u001b[1;33m]\u001b[0m\u001b[1;33m\u001b[0m\u001b[1;33m\u001b[0m\u001b[0m\n\u001b[0m\u001b[0;32m      2\u001b[0m \u001b[0mdf_test\u001b[0m \u001b[1;33m=\u001b[0m \u001b[0mdf_test\u001b[0m\u001b[1;33m.\u001b[0m\u001b[0mdrop\u001b[0m\u001b[1;33m(\u001b[0m\u001b[0mcolumns\u001b[0m\u001b[1;33m=\u001b[0m\u001b[1;34m\"label\"\u001b[0m\u001b[1;33m)\u001b[0m\u001b[1;33m\u001b[0m\u001b[1;33m\u001b[0m\u001b[0m\n\u001b[0;32m      3\u001b[0m \u001b[0mdf_test\u001b[0m\u001b[1;33m.\u001b[0m\u001b[0mhead\u001b[0m\u001b[1;33m(\u001b[0m\u001b[1;33m)\u001b[0m\u001b[1;33m\u001b[0m\u001b[1;33m\u001b[0m\u001b[0m\n",
      "\u001b[1;32m~\\Anaconda3\\lib\\site-packages\\pandas\\core\\frame.py\u001b[0m in \u001b[0;36m__getitem__\u001b[1;34m(self, key)\u001b[0m\n\u001b[0;32m   2925\u001b[0m             \u001b[1;32mif\u001b[0m \u001b[0mself\u001b[0m\u001b[1;33m.\u001b[0m\u001b[0mcolumns\u001b[0m\u001b[1;33m.\u001b[0m\u001b[0mnlevels\u001b[0m \u001b[1;33m>\u001b[0m \u001b[1;36m1\u001b[0m\u001b[1;33m:\u001b[0m\u001b[1;33m\u001b[0m\u001b[1;33m\u001b[0m\u001b[0m\n\u001b[0;32m   2926\u001b[0m                 \u001b[1;32mreturn\u001b[0m \u001b[0mself\u001b[0m\u001b[1;33m.\u001b[0m\u001b[0m_getitem_multilevel\u001b[0m\u001b[1;33m(\u001b[0m\u001b[0mkey\u001b[0m\u001b[1;33m)\u001b[0m\u001b[1;33m\u001b[0m\u001b[1;33m\u001b[0m\u001b[0m\n\u001b[1;32m-> 2927\u001b[1;33m             \u001b[0mindexer\u001b[0m \u001b[1;33m=\u001b[0m \u001b[0mself\u001b[0m\u001b[1;33m.\u001b[0m\u001b[0mcolumns\u001b[0m\u001b[1;33m.\u001b[0m\u001b[0mget_loc\u001b[0m\u001b[1;33m(\u001b[0m\u001b[0mkey\u001b[0m\u001b[1;33m)\u001b[0m\u001b[1;33m\u001b[0m\u001b[1;33m\u001b[0m\u001b[0m\n\u001b[0m\u001b[0;32m   2928\u001b[0m             \u001b[1;32mif\u001b[0m \u001b[0mis_integer\u001b[0m\u001b[1;33m(\u001b[0m\u001b[0mindexer\u001b[0m\u001b[1;33m)\u001b[0m\u001b[1;33m:\u001b[0m\u001b[1;33m\u001b[0m\u001b[1;33m\u001b[0m\u001b[0m\n\u001b[0;32m   2929\u001b[0m                 \u001b[0mindexer\u001b[0m \u001b[1;33m=\u001b[0m \u001b[1;33m[\u001b[0m\u001b[0mindexer\u001b[0m\u001b[1;33m]\u001b[0m\u001b[1;33m\u001b[0m\u001b[1;33m\u001b[0m\u001b[0m\n",
      "\u001b[1;32m~\\Anaconda3\\lib\\site-packages\\pandas\\core\\indexes\\base.py\u001b[0m in \u001b[0;36mget_loc\u001b[1;34m(self, key, method, tolerance)\u001b[0m\n\u001b[0;32m   2657\u001b[0m                 \u001b[1;32mreturn\u001b[0m \u001b[0mself\u001b[0m\u001b[1;33m.\u001b[0m\u001b[0m_engine\u001b[0m\u001b[1;33m.\u001b[0m\u001b[0mget_loc\u001b[0m\u001b[1;33m(\u001b[0m\u001b[0mkey\u001b[0m\u001b[1;33m)\u001b[0m\u001b[1;33m\u001b[0m\u001b[1;33m\u001b[0m\u001b[0m\n\u001b[0;32m   2658\u001b[0m             \u001b[1;32mexcept\u001b[0m \u001b[0mKeyError\u001b[0m\u001b[1;33m:\u001b[0m\u001b[1;33m\u001b[0m\u001b[1;33m\u001b[0m\u001b[0m\n\u001b[1;32m-> 2659\u001b[1;33m                 \u001b[1;32mreturn\u001b[0m \u001b[0mself\u001b[0m\u001b[1;33m.\u001b[0m\u001b[0m_engine\u001b[0m\u001b[1;33m.\u001b[0m\u001b[0mget_loc\u001b[0m\u001b[1;33m(\u001b[0m\u001b[0mself\u001b[0m\u001b[1;33m.\u001b[0m\u001b[0m_maybe_cast_indexer\u001b[0m\u001b[1;33m(\u001b[0m\u001b[0mkey\u001b[0m\u001b[1;33m)\u001b[0m\u001b[1;33m)\u001b[0m\u001b[1;33m\u001b[0m\u001b[1;33m\u001b[0m\u001b[0m\n\u001b[0m\u001b[0;32m   2660\u001b[0m         \u001b[0mindexer\u001b[0m \u001b[1;33m=\u001b[0m \u001b[0mself\u001b[0m\u001b[1;33m.\u001b[0m\u001b[0mget_indexer\u001b[0m\u001b[1;33m(\u001b[0m\u001b[1;33m[\u001b[0m\u001b[0mkey\u001b[0m\u001b[1;33m]\u001b[0m\u001b[1;33m,\u001b[0m \u001b[0mmethod\u001b[0m\u001b[1;33m=\u001b[0m\u001b[0mmethod\u001b[0m\u001b[1;33m,\u001b[0m \u001b[0mtolerance\u001b[0m\u001b[1;33m=\u001b[0m\u001b[0mtolerance\u001b[0m\u001b[1;33m)\u001b[0m\u001b[1;33m\u001b[0m\u001b[1;33m\u001b[0m\u001b[0m\n\u001b[0;32m   2661\u001b[0m         \u001b[1;32mif\u001b[0m \u001b[0mindexer\u001b[0m\u001b[1;33m.\u001b[0m\u001b[0mndim\u001b[0m \u001b[1;33m>\u001b[0m \u001b[1;36m1\u001b[0m \u001b[1;32mor\u001b[0m \u001b[0mindexer\u001b[0m\u001b[1;33m.\u001b[0m\u001b[0msize\u001b[0m \u001b[1;33m>\u001b[0m \u001b[1;36m1\u001b[0m\u001b[1;33m:\u001b[0m\u001b[1;33m\u001b[0m\u001b[1;33m\u001b[0m\u001b[0m\n",
      "\u001b[1;32mpandas/_libs/index.pyx\u001b[0m in \u001b[0;36mpandas._libs.index.IndexEngine.get_loc\u001b[1;34m()\u001b[0m\n",
      "\u001b[1;32mpandas/_libs/index.pyx\u001b[0m in \u001b[0;36mpandas._libs.index.IndexEngine.get_loc\u001b[1;34m()\u001b[0m\n",
      "\u001b[1;32mpandas/_libs/hashtable_class_helper.pxi\u001b[0m in \u001b[0;36mpandas._libs.hashtable.PyObjectHashTable.get_item\u001b[1;34m()\u001b[0m\n",
      "\u001b[1;32mpandas/_libs/hashtable_class_helper.pxi\u001b[0m in \u001b[0;36mpandas._libs.hashtable.PyObjectHashTable.get_item\u001b[1;34m()\u001b[0m\n",
      "\u001b[1;31mKeyError\u001b[0m: 'label'"
     ]
    }
   ],
   "source": [
    "df_test_label = df_test[\"label\"]\n",
    "df_test = df_test.drop(columns=\"label\")\n",
    "df_test.head()"
   ]
  },
  {
   "cell_type": "code",
   "execution_count": 198,
   "metadata": {},
   "outputs": [
    {
     "name": "stdout",
     "output_type": "stream",
     "text": [
      "Accuracy: 97.34%\n"
     ]
    }
   ],
   "source": [
    "from sklearn.metrics import accuracy_score\n",
    "preds = xg_class.predict(df_test)\n",
    "accuracy = accuracy_score(df_test_label, preds)\n",
    "print(\"Accuracy: %.2f%%\" % (accuracy * 100.0))"
   ]
  },
  {
   "cell_type": "markdown",
   "metadata": {},
   "source": [
    "# Random Forest"
   ]
  },
  {
   "cell_type": "code",
   "execution_count": 192,
   "metadata": {},
   "outputs": [
    {
     "ename": "AttributeError",
     "evalue": "'RandomForestClassifier' object has no attribute 'save'",
     "output_type": "error",
     "traceback": [
      "\u001b[1;31m---------------------------------------------------------------------------\u001b[0m",
      "\u001b[1;31mAttributeError\u001b[0m                            Traceback (most recent call last)",
      "\u001b[1;32m<ipython-input-192-fd5dede08c85>\u001b[0m in \u001b[0;36m<module>\u001b[1;34m\u001b[0m\n\u001b[1;32m----> 1\u001b[1;33m \u001b[0mmodel\u001b[0m\u001b[1;33m.\u001b[0m\u001b[0msave\u001b[0m\u001b[1;33m(\u001b[0m\u001b[1;33m)\u001b[0m\u001b[1;33m\u001b[0m\u001b[1;33m\u001b[0m\u001b[0m\n\u001b[0m",
      "\u001b[1;31mAttributeError\u001b[0m: 'RandomForestClassifier' object has no attribute 'save'"
     ]
    }
   ],
   "source": [
    "model.save()"
   ]
  },
  {
   "cell_type": "code",
   "execution_count": 189,
   "metadata": {},
   "outputs": [
    {
     "data": {
      "text/plain": [
       "RandomForestClassifier(bootstrap=True, class_weight=None, criterion='gini',\n",
       "                       max_depth=None, max_features='sqrt', max_leaf_nodes=None,\n",
       "                       min_impurity_decrease=0.0, min_impurity_split=None,\n",
       "                       min_samples_leaf=1, min_samples_split=2,\n",
       "                       min_weight_fraction_leaf=0.0, n_estimators=100,\n",
       "                       n_jobs=None, oob_score=False, random_state=None,\n",
       "                       verbose=0, warm_start=False)"
      ]
     },
     "execution_count": 189,
     "metadata": {},
     "output_type": "execute_result"
    }
   ],
   "source": [
    "from sklearn.ensemble import RandomForestClassifier\n",
    "\n",
    "# Create the model with 100 trees\n",
    "model = RandomForestClassifier(n_estimators=100, \n",
    "                               bootstrap = True,\n",
    "                               max_features = 'sqrt')\n",
    "# Fit on training data\n",
    "model.fit(train.drop(columns=[\"label\"]),train[\"label\"].values)"
   ]
  },
  {
   "cell_type": "code",
   "execution_count": 190,
   "metadata": {},
   "outputs": [
    {
     "name": "stdout",
     "output_type": "stream",
     "text": [
      "Accuracy: 97.34%\n"
     ]
    }
   ],
   "source": [
    "rf_predictions = model.predict(df_test)\n",
    "accuracy = accuracy_score(df_test_label, preds)\n",
    "print(\"Accuracy: %.2f%%\" % (accuracy * 100.0))"
   ]
  }
 ],
 "metadata": {
  "kernelspec": {
   "display_name": "Python 3",
   "language": "python",
   "name": "python3"
  },
  "language_info": {
   "codemirror_mode": {
    "name": "ipython",
    "version": 3
   },
   "file_extension": ".py",
   "mimetype": "text/x-python",
   "name": "python",
   "nbconvert_exporter": "python",
   "pygments_lexer": "ipython3",
   "version": "3.7.3"
  }
 },
 "nbformat": 4,
 "nbformat_minor": 2
}
